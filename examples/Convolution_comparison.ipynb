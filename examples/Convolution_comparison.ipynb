{
 "cells": [
  {
   "cell_type": "code",
   "execution_count": null,
   "metadata": {},
   "outputs": [],
   "source": [
    "%load_ext autoreload\n",
    "%autoreload 2"
   ]
  },
  {
   "cell_type": "code",
   "execution_count": 1,
   "metadata": {},
   "outputs": [],
   "source": [
    "import numpy as np\n",
    "import cupy as cp\n",
    "#from scipy import signal\n",
    "#from scipy import ndimage\n",
    "#from scipy.signal import fftconvolve, oaconvolve\n",
    "#from cupyx.scipy.ndimage import filters\n",
    "\n",
    "from scipy.ndimage import convolve as conv\n",
    "from scipy.signal import convolve2d, fftconvolve, oaconvolve\n",
    "#from cupyx.scipy.ndimage.filters import convolve as cupy_conv\n",
    "from cupyx.scipy.ndimage import convolve as cupy_conv"
   ]
  },
  {
   "cell_type": "markdown",
   "metadata": {},
   "source": [
    "# Comparison"
   ]
  },
  {
   "cell_type": "code",
   "execution_count": 14,
   "metadata": {},
   "outputs": [
    {
     "name": "stdout",
     "output_type": "stream",
     "text": [
      "[[11 21 14 17]\n",
      " [22 26 23 29]\n",
      " [15 23 14 22]\n",
      " [12 14  7 14]]\n",
      "[[ 1  3  3  3  3  3  2  0  0]\n",
      " [ 6 11 11 15 14 13  9  4  4]\n",
      " [ 6 11 11 21 14 17 16  7 11]\n",
      " [15 23 22 26 23 29 15  0 11]\n",
      " [15 22 15 23 14 22  8  0 11]\n",
      " [14 15 12 14  7 14  6  0 11]\n",
      " [ 9 12  3  7  0  9  3  0  7]\n",
      " [ 9  3  0  0  0  9  3  0  0]]\n",
      "[[11 21 14 17]\n",
      " [22 26 23 29]\n",
      " [15 23 14 22]\n",
      " [12 14  7 14]]\n"
     ]
    }
   ],
   "source": [
    "a = np.array([[1, 2, 0, 0],[5, 3, 0, 4],[0, 0, 0, 7],[9, 3, 0, 0]])\n",
    "k = np.array([[1,1,1,1,1,1],[1,1,1,1,0,1],[1,1,1,0,0,1],[1,1,0,0,0,1],[1,0,0,0,0,1]])\n",
    "print(conv(a, k, mode='constant',origin=(0,-1)))\n",
    "print(convolve2d(a,k, mode='full'))\n",
    "print(convolve2d(a,k, mode='same'))"
   ]
  },
  {
   "cell_type": "code",
   "execution_count": 29,
   "metadata": {},
   "outputs": [
    {
     "name": "stdout",
     "output_type": "stream",
     "text": [
      "36.7 µs ± 1.01 µs per loop (mean ± std. dev. of 7 runs, 10000 loops each)\n"
     ]
    }
   ],
   "source": [
    "%%timeit\n",
    "a=cp.linspace(0,1000,500)"
   ]
  },
  {
   "cell_type": "code",
   "execution_count": 30,
   "metadata": {},
   "outputs": [
    {
     "name": "stdout",
     "output_type": "stream",
     "text": [
      "27.9 µs ± 2.97 µs per loop (mean ± std. dev. of 7 runs, 10000 loops each)\n"
     ]
    }
   ],
   "source": [
    "%%timeit\n",
    "a = cp.arange(0,1000,2)"
   ]
  },
  {
   "cell_type": "code",
   "execution_count": 2,
   "metadata": {},
   "outputs": [
    {
     "name": "stdout",
     "output_type": "stream",
     "text": [
      "[[11 21 14 11]\n",
      " [22 26 23 14]\n",
      " [15 23 14  7]\n",
      " [12 14  7  0]]\n",
      "[[11 21 14 11]\n",
      " [22 26 23 14]\n",
      " [15 23 14  7]\n",
      " [12 14  7  0]]\n",
      "[[1.10000000e+01 2.10000000e+01 1.40000000e+01 1.10000000e+01]\n",
      " [2.20000000e+01 2.60000000e+01 2.30000000e+01 1.40000000e+01]\n",
      " [1.50000000e+01 2.30000000e+01 1.40000000e+01 7.00000000e+00]\n",
      " [1.20000000e+01 1.40000000e+01 7.00000000e+00 1.77635684e-15]]\n",
      "[[1.10000000e+01 2.10000000e+01 1.40000000e+01 1.10000000e+01]\n",
      " [2.20000000e+01 2.60000000e+01 2.30000000e+01 1.40000000e+01]\n",
      " [1.50000000e+01 2.30000000e+01 1.40000000e+01 7.00000000e+00]\n",
      " [1.20000000e+01 1.40000000e+01 7.00000000e+00 1.77635684e-15]]\n",
      "[[11 21 14 11]\n",
      " [22 26 23 14]\n",
      " [15 23 14  7]\n",
      " [12 14  7  0]]\n"
     ]
    }
   ],
   "source": [
    "# Compare results from five different convolution methods\n",
    "\n",
    "# 4 CPU methods (1 ndimage method + 3 filter methods)\n",
    "a = np.array([[1, 2, 0, 0],[5, 3, 0, 4],[0, 0, 0, 7],[9, 3, 0, 0]])\n",
    "k = np.array([[1,1,1,1,1],[1,1,1,1,0],[1,1,1,0,0],[1,1,0,0,0],[1,0,0,0,0]])\n",
    "print(conv(a, k, mode='constant'))\n",
    "print(convolve2d(a,k, mode='same'))\n",
    "print(fftconvolve(a,k, mode='same'))\n",
    "print(oaconvolve(a,k, mode='same'))\n",
    "\n",
    "# 1 GPU method (ndimage method)\n",
    "a = cp.array([[1, 2, 0, 0],[5, 3, 0, 4],[0, 0, 0, 7],[9, 3, 0, 0]])\n",
    "k = cp.array([[1,1,1,1,1],[1,1,1,1,0],[1,1,1,0,0],[1,1,0,0,0],[1,0,0,0,0]])\n",
    "print(cupy_conv(a, k, mode='constant'))"
   ]
  },
  {
   "cell_type": "markdown",
   "metadata": {},
   "source": [
    "# Matrix center specification"
   ]
  },
  {
   "cell_type": "markdown",
   "metadata": {},
   "source": [
    "Depending on the shape of the kernal, the \"origin\" of the ndimage methods needs to be set properly to match the results with the signal methods "
   ]
  },
  {
   "cell_type": "code",
   "execution_count": 30,
   "metadata": {},
   "outputs": [
    {
     "name": "stdout",
     "output_type": "stream",
     "text": [
      "[[11 22 21 14]\n",
      " [23 33 26 23]\n",
      " [22 26 23 14]\n",
      " [15 23 14  7]]\n",
      "[[11 22 21 14]\n",
      " [23 33 26 23]\n",
      " [22 26 23 14]\n",
      " [15 23 14  7]]\n"
     ]
    }
   ],
   "source": [
    "# k.shape = (even,even), origin = (-1,-1) required\n",
    "a = np.array([[1, 2, 0, 0],[5, 3, 0, 4],[0, 0, 0, 7],[9, 3, 0, 0]])\n",
    "k = np.array([[1,1,1,1,1,1],[1,1,1,1,1,0],[1,1,1,1,0,0],[1,1,1,0,0,0],[1,1,0,0,0,0],[1,0,0,0,0,0]])\n",
    "origin = (-1,-1)\n",
    "print(conv(a, k, mode='constant', origin = origin))\n",
    "print(convolve2d(a,k, mode='same'))"
   ]
  },
  {
   "cell_type": "code",
   "execution_count": 17,
   "metadata": {},
   "outputs": [
    {
     "name": "stdout",
     "output_type": "stream",
     "text": [
      "[[11 21 17 20 19]\n",
      " [22 26 27 33 18]\n",
      " [15 23 18 25 10]\n",
      " [12 14 10 16  7]]\n",
      "[[11 21 17 20 19]\n",
      " [22 26 27 33 18]\n",
      " [15 23 18 25 10]\n",
      " [12 14 10 16  7]]\n"
     ]
    }
   ],
   "source": [
    "# k.shape = (odd,even), origin = (0,-1) required\n",
    "a = np.array([[1, 2, 0, 0,1],[5, 3, 0, 4,1],[0, 0, 0, 7,1],[9, 3, 0, 0,1]])\n",
    "k = np.array([[1,1,1,1,1,1],[1,1,1,1,0,1],[1,1,1,0,0,1],[1,1,0,0,0,1],[1,0,0,0,0,1]])\n",
    "print(conv(a, k, mode='constant',origin=(0,-1)))\n",
    "print(convolve2d(a,k, mode='same'))"
   ]
  },
  {
   "cell_type": "code",
   "execution_count": 21,
   "metadata": {},
   "outputs": [
    {
     "name": "stdout",
     "output_type": "stream",
     "text": [
      "[[11 21 17 14 14]\n",
      " [22 26 27 18 10]\n",
      " [15 23 18 10  2]\n",
      " [12 14 10  2  1]]\n",
      "[[11 21 17 14 14]\n",
      " [22 26 27 18 10]\n",
      " [15 23 18 10  2]\n",
      " [12 14 10  2  1]]\n"
     ]
    }
   ],
   "source": [
    "# k.shape = (even,odd), origin = (-1,0) required\n",
    "a = np.array([[1, 2, 0, 0,1],[5, 3, 0, 4,1],[0, 0, 0, 7,1],[9, 3, 0, 0,1]])\n",
    "k = np.array([[1,1,1,1,1],[1,1,1,1,0],[1,1,1,0,0],[1,1,0,0,0],[1,0,0,0,0],[0,0,0,0,0]])\n",
    "print(conv(a, k, mode='constant',origin=(-1,0)))\n",
    "print(convolve2d(a,k, mode='same'))"
   ]
  },
  {
   "cell_type": "markdown",
   "metadata": {},
   "source": [
    "# Timing"
   ]
  },
  {
   "cell_type": "code",
   "execution_count": 12,
   "metadata": {},
   "outputs": [
    {
     "name": "stdout",
     "output_type": "stream",
     "text": [
      "1.29 ms ± 431 µs per loop (mean ± std. dev. of 4 runs, 3 loops each)\n",
      "137 µs ± 850 ns per loop (mean ± std. dev. of 4 runs, 3 loops each)\n",
      "337 µs ± 127 µs per loop (mean ± std. dev. of 4 runs, 3 loops each)\n",
      "275 µs ± 53.9 µs per loop (mean ± std. dev. of 4 runs, 3 loops each)\n",
      "88.7 µs ± 16.5 µs per loop (mean ± std. dev. of 4 runs, 3 loops each)\n"
     ]
    }
   ],
   "source": [
    "# Compare timings with different matrix size N \n",
    "# N > 100 can take significant time\n",
    "N = 10\n",
    "a = np.random.randint(5, size=(N, N))\n",
    "k = np.random.randint(5, size=(2*N, 2*N))\n",
    "%timeit -n 3 -r 4 conv(a, k, mode='constant', origin = (-1,-1))\n",
    "%timeit -n 3 -r 4 convolve2d(a, k, mode='same')\n",
    "%timeit -n 3 -r 4 fftconvolve(a, k, mode='same')\n",
    "%timeit -n 3 -r 4 oaconvolve(a, k, mode='same')\n",
    "\n",
    "a = cp.random.randint(5, size=(N, N))\n",
    "k = cp.random.randint(5, size=(2*N, 2*N))\n",
    "%timeit -n 3 -r 4 cupy_conv(a, k, mode='constant', origin = (-1,-1))"
   ]
  },
  {
   "cell_type": "code",
   "execution_count": 14,
   "metadata": {},
   "outputs": [
    {
     "name": "stdout",
     "output_type": "stream",
     "text": [
      "496 µs ± 159 µs per loop (mean ± std. dev. of 4 runs, 3 loops each)\n",
      "1.28 ms ± 211 µs per loop (mean ± std. dev. of 4 runs, 3 loops each)\n"
     ]
    }
   ],
   "source": [
    "# Check the time for array assignments\n",
    "N = 100\n",
    "%timeit -n 3 -r 4 a = np.random.randint(5, size=(N, N))\n",
    "%timeit -n 3 -r 4 a = cp.random.randint(5, size=(N, N))"
   ]
  },
  {
   "cell_type": "code",
   "execution_count": null,
   "metadata": {},
   "outputs": [],
   "source": [
    "# Not sure if this function is required to time GPU commands\n",
    "cupy.cuda.runtime.deviceSynchronize() "
   ]
  }
 ],
 "metadata": {
  "kernelspec": {
   "display_name": "Test",
   "language": "python",
   "name": "test"
  },
  "language_info": {
   "codemirror_mode": {
    "name": "ipython",
    "version": 3
   },
   "file_extension": ".py",
   "mimetype": "text/x-python",
   "name": "python",
   "nbconvert_exporter": "python",
   "pygments_lexer": "ipython3",
   "version": "3.8.5"
  }
 },
 "nbformat": 4,
 "nbformat_minor": 4
}

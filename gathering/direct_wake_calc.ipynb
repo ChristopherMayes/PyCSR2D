{
 "cells": [
  {
   "cell_type": "code",
   "execution_count": 1,
   "metadata": {},
   "outputs": [],
   "source": [
    "import mpmath as mp\n",
    "\n",
    "from csr2d.core_mpmath import psi_s, lambda_p_gauss, lambda_gauss\n",
    "\n",
    "from mpmath import mpf, quad\n",
    "\n",
    "import scipy.constants\n",
    "mec2 = scipy.constants.value('electron mass energy equivalent in MeV')*1e6\n",
    "c_light = scipy.constants.c\n",
    "e_charge = scipy.constants.e\n",
    "r_e = scipy.constants.value('classical electron radius')"
   ]
  },
  {
   "cell_type": "code",
   "execution_count": 6,
   "metadata": {},
   "outputs": [],
   "source": [
    "#E0 = 30 * 1e9 \n",
    "#gamma = E0 /mec2\n",
    "\n",
    "gamma = mpf(58700)\n",
    "beta = mp.sqrt(1-1/gamma**2)\n",
    "\n",
    "rho = mpf(1538)\n",
    "\n",
    "sigmaz = mpf(40e-6) \n",
    "sigmax = mpf(134e-6)"
   ]
  },
  {
   "cell_type": "code",
   "execution_count": 5,
   "metadata": {},
   "outputs": [
    {
     "data": {
      "text/plain": [
       "mpf('0.99999999605364942')"
      ]
     },
     "execution_count": 5,
     "metadata": {},
     "output_type": "execute_result"
    }
   ],
   "source": [
    "#f = lambda z, x: lambda_p_gauss(z, x, sigmaz, sigmax)\n",
    "#quad(f, [0, sigmaz], [0, sigmax])\n",
    "\n",
    "\n",
    "f2 = lambda z,x: lambda_gauss(z, x, sigmaz, sigmax)\n",
    "quad(f2, [-6*sigmaz, 6*sigmaz], [-6*sigmax, 6*sigmax])"
   ]
  },
  {
   "cell_type": "code",
   "execution_count": 9,
   "metadata": {},
   "outputs": [],
   "source": [
    "def Ys(z,x):\n",
    "    return beta**2/rho*psi_s(z,x,beta) "
   ]
  },
  {
   "cell_type": "code",
   "execution_count": 10,
   "metadata": {},
   "outputs": [
    {
     "data": {
      "text/plain": [
       "mpf('-0.020544073871426087')"
      ]
     },
     "execution_count": 10,
     "metadata": {},
     "output_type": "execute_result"
    }
   ],
   "source": [
    "Ys(sigmaz,sigmax)"
   ]
  },
  {
   "cell_type": "code",
   "execution_count": 17,
   "metadata": {},
   "outputs": [
    {
     "data": {
      "text/plain": [
       "mpf('0.0')"
      ]
     },
     "execution_count": 17,
     "metadata": {},
     "output_type": "execute_result"
    }
   ],
   "source": [
    "lambda_p_gauss(0, 0, sigmaz, sigmax)"
   ]
  },
  {
   "cell_type": "code",
   "execution_count": 11,
   "metadata": {},
   "outputs": [
    {
     "data": {
      "text/plain": [
       "mpf('50.0')"
      ]
     },
     "execution_count": 11,
     "metadata": {},
     "output_type": "execute_result"
    }
   ],
   "source": [
    "mpmath.re(50+20j)"
   ]
  },
  {
   "cell_type": "code",
   "execution_count": null,
   "metadata": {},
   "outputs": [],
   "source": []
  }
 ],
 "metadata": {
  "kernelspec": {
   "display_name": "Lume",
   "language": "python",
   "name": "lume"
  },
  "language_info": {
   "codemirror_mode": {
    "name": "ipython",
    "version": 3
   },
   "file_extension": ".py",
   "mimetype": "text/x-python",
   "name": "python",
   "nbconvert_exporter": "python",
   "pygments_lexer": "ipython3",
   "version": "3.7.7"
  }
 },
 "nbformat": 4,
 "nbformat_minor": 4
}
